{
 "cells": [
  {
   "cell_type": "code",
   "execution_count": 1,
   "id": "5b1a36ba",
   "metadata": {},
   "outputs": [
    {
     "name": "stdout",
     "output_type": "stream",
     "text": [
      "1\n",
      "2\n",
      "3\n",
      "4\n",
      "5\n",
      "6\n",
      "7\n",
      "8\n",
      "9\n",
      "10\n"
     ]
    }
   ],
   "source": [
    "#for in range\n",
    "#print 1-10\n",
    "for i in range(1,11):\n",
    "    print(i)\n",
    "    "
   ]
  },
  {
   "cell_type": "code",
   "execution_count": 13,
   "id": "955ccea4",
   "metadata": {},
   "outputs": [
    {
     "name": "stdout",
     "output_type": "stream",
     "text": [
      "10\n",
      "20\n",
      "30\n",
      "40\n",
      "50\n",
      "60\n",
      "70\n",
      "80\n",
      "90\n",
      "100\n"
     ]
    }
   ],
   "source": [
    "#print 10 20 30 40 50 ---- 100\n",
    "for i in range(1,11):\n",
    "    print(i*10)\n"
   ]
  },
  {
   "cell_type": "code",
   "execution_count": 21,
   "id": "d4843ed8",
   "metadata": {},
   "outputs": [
    {
     "name": "stdout",
     "output_type": "stream",
     "text": [
      "1\n",
      "-2\n",
      "3\n",
      "-4\n",
      "5\n",
      "-6\n",
      "7\n",
      "-8\n",
      "9\n",
      "-10\n"
     ]
    }
   ],
   "source": [
    "#1 -2 3 -4 5 -6 7 -8 9 -10\n",
    "sign = 1\n",
    "for i in range(1,11):\n",
    "    print(i * sign)\n",
    "    sign *= -1\n",
    " "
   ]
  },
  {
   "cell_type": "code",
   "execution_count": 22,
   "id": "b568b825",
   "metadata": {},
   "outputs": [
    {
     "name": "stdout",
     "output_type": "stream",
     "text": [
      "isikan bilangan:5\n",
      "faktorial dari 5! adalah 120\n"
     ]
    }
   ],
   "source": [
    "# faktorial => input 4! = 4*3*2*1= 24\n",
    "number = int(input('isikan bilangan:'))\n",
    "result = 1\n",
    "for i in range(1,number+1):\n",
    "    result = result * i\n",
    "print(f\"faktorial dari {number}! adalah {result}\")    "
   ]
  },
  {
   "cell_type": "code",
   "execution_count": 1,
   "id": "e0cd33a2",
   "metadata": {},
   "outputs": [
    {
     "name": "stdout",
     "output_type": "stream",
     "text": [
      "isikan bilangan:3\n",
      "isikan bilangan:2\n",
      "3 pangkat2 = 9\n"
     ]
    }
   ],
   "source": [
    "number = int(input('isikan bilangan:'))\n",
    "pangkat = int(input('isikan pangkat:'))\n",
    "result = 1\n",
    "for i in range(1,pangkat+1):\n",
    "    result *= number\n",
    "print(f\"{number} pangkat{pangkat} = {result}\")"
   ]
  },
  {
   "cell_type": "code",
   "execution_count": 2,
   "id": "b6ef1f8d",
   "metadata": {},
   "outputs": [
    {
     "name": "stdout",
     "output_type": "stream",
     "text": [
      "isikan bilangan:10\n",
      "isikan pangkat:2\n",
      "10 pangkat 2 = 100\n"
     ]
    }
   ],
   "source": [
    "number = int(input('isikan bilangan:'))\n",
    "pangkat = int(input('isikan pangkat:'))\n",
    "\n",
    "result = 1\n",
    "for i in range(1,pangkat+1):\n",
    "    result *=number\n",
    "print(f\"{number} pangkat {pangkat} = {result}\")"
   ]
  },
  {
   "cell_type": "code",
   "execution_count": 7,
   "id": "af010331",
   "metadata": {},
   "outputs": [
    {
     "name": "stdout",
     "output_type": "stream",
     "text": [
      "isikan bilangan:18\n",
      "18 adalah bilangan bukan prima\n"
     ]
    }
   ],
   "source": [
    "#cek bilangan prima\n",
    "#bil. prima adalah bilangan yang hanya bisa dibagi dengan bilangan itu\n",
    "# sendiri dan 1\n",
    "\n",
    "#bil. prima punya 2 faktor\n",
    "\n",
    "#jika number % i == 0 maka nilai faktor di increment (+1)\n",
    "#setelah selesai perulangan, jika faktor == 2 maka bilangan prima\n",
    "number = int(input('isikan bilangan:'))\n",
    "faktor = 0\n",
    "for i in range(1,number+1):\n",
    "    sisa = number % i\n",
    "    if number % i == 0:\n",
    "        faktor = faktor + 1\n",
    "        \n",
    "if faktor == 2:\n",
    "    print(f\"{nunmber} adalah bilangan prima\")\n",
    "else:\n",
    "    print(f\"{number} adalah bilangan bukan prima\")"
   ]
  },
  {
   "cell_type": "code",
   "execution_count": 12,
   "id": "6fdc36f3",
   "metadata": {},
   "outputs": [
    {
     "name": "stdout",
     "output_type": "stream",
     "text": [
      "22\n",
      "U\n",
      "0 U\n",
      "1 n\n",
      "2 i\n",
      "3 v\n",
      "4 e\n",
      "5 r\n",
      "6 s\n",
      "7 i\n",
      "8 t\n",
      "9 a\n",
      "10 s\n",
      "11  \n",
      "12 N\n",
      "13 u\n",
      "14 s\n",
      "15 a\n",
      "16  \n",
      "17 P\n",
      "18 u\n",
      "19 t\n",
      "20 r\n",
      "21 a\n"
     ]
    }
   ],
   "source": [
    "kampus = \"Universitas Nusa Putra\" # panjang = 22\n",
    "print (len(kampus))\n",
    "print(kampus[0])\n",
    "for i, huruf in  enumerate (kampus):\n",
    "    print(i, huruf)"
   ]
  },
  {
   "cell_type": "code",
   "execution_count": 20,
   "id": "dce58abf",
   "metadata": {},
   "outputs": [
    {
     "name": "stdout",
     "output_type": "stream",
     "text": [
      "jumlah huruf a:3\n",
      "jumlah huruf i:2\n",
      "jumlah huruf vokal:5\n",
      "jumlah huruf u:3\n",
      "jumlah huruf e:1\n",
      "jumlah huruf vokal:4\n",
      "jumlah huruf o:0\n"
     ]
    }
   ],
   "source": [
    "#menghitung jumlah huruf vokal a i u e o\n",
    "kampus = \"Universitas Nusa Putra\" # panjang 22\n",
    "panjang = len(kampus)\n",
    "\n",
    "vokal_a= 0\n",
    "vokal_i= 0\n",
    "vokal_u= 0\n",
    "vokal_e= 0\n",
    "vokal_o= 0\n",
    "\n",
    "for i in range(0,panjang):\n",
    "    if kampus[i]=='a':\n",
    "        vokal_a+=1 \n",
    "        \n",
    "    elif kampus [i]=='i':\n",
    "            vokal_i+=1\n",
    "            \n",
    "    if kampus[i]=='u' or kampus[i]==\"U\":\n",
    "        vokal_u+=1\n",
    "        \n",
    "    elif kampus [i]=='e':\n",
    "        vokal_e+=1\n",
    "        \n",
    "    if kampus[i]=='o':\n",
    "        vokal_o+=1\n",
    "print(f\"jumlah huruf a:{vokal_a}\")\n",
    "print(f\"jumlah huruf i:{vokal_i}\")\n",
    "print(f\"jumlah huruf vokal:{vokal_a + vokal_i}\")\n",
    "print(f\"jumlah huruf u:{vokal_u}\")\n",
    "print(f\"jumlah huruf e:{vokal_e}\")\n",
    "print(f\"jumlah huruf vokal:{vokal_u + vokal_e}\")\n",
    "print(f\"jumlah huruf o:{vokal_o}\")"
   ]
  },
  {
   "cell_type": "code",
   "execution_count": 9,
   "id": "e70731f7",
   "metadata": {},
   "outputs": [
    {
     "ename": "SyntaxError",
     "evalue": "invalid syntax (2805985874.py, line 12)",
     "output_type": "error",
     "traceback": [
      "\u001b[1;36m  Input \u001b[1;32mIn [9]\u001b[1;36m\u001b[0m\n\u001b[1;33m    if urut ! = kebalikan:\u001b[0m\n\u001b[1;37m            ^\u001b[0m\n\u001b[1;31mSyntaxError\u001b[0m\u001b[1;31m:\u001b[0m invalid syntax\n"
     ]
    }
   ],
   "source": [
    "kalimat = input (\"isikan kalimat\")\n",
    "panjang_kalimat = len(kalimat)\n",
    "\n",
    "#mengecek kalimat palindrome atau bukan\n",
    "#palindrome=> kalimat yang dibaca dari kiri > kanan dan kana>kekiri itu sama\n",
    "#katak=> palindrome\n",
    "#kasur rusak => palindrome\n",
    "ispalindrome = true\n",
    "for i in range(0, panjang_kalimat):\n",
    "    urut = kalimat[i]\n",
    "    kebalikan = kalimat[panjang_kalimat - i-1]\n",
    "    if urut ! = kebalikan:\n",
    "        ispalindrome = false\n",
    "        break\n",
    "        \n",
    "if ispalindrome==true:\n",
    "    print(\"palindrome\")\n",
    "else:\n",
    "    print(\"bukan palindrome\")\n",
    "\n",
    "    "
   ]
  },
  {
   "cell_type": "code",
   "execution_count": 5,
   "id": "e6c877e7",
   "metadata": {},
   "outputs": [
    {
     "name": "stdout",
     "output_type": "stream",
     "text": [
      "isikan kalimat:aku\n"
     ]
    },
    {
     "ename": "NameError",
     "evalue": "name 'panjang_kalimat' is not defined",
     "output_type": "error",
     "traceback": [
      "\u001b[1;31m---------------------------------------------------------------------------\u001b[0m",
      "\u001b[1;31mNameError\u001b[0m                                 Traceback (most recent call last)",
      "Input \u001b[1;32mIn [5]\u001b[0m, in \u001b[0;36m<cell line: 2>\u001b[1;34m()\u001b[0m\n\u001b[0;32m      4\u001b[0m panjnag_kalimat \u001b[38;5;241m=\u001b[39m \u001b[38;5;28mlen\u001b[39m(kalimat)\n\u001b[0;32m      6\u001b[0m ispalindrome \u001b[38;5;241m=\u001b[39m \u001b[38;5;28;01mTrue\u001b[39;00m\n\u001b[1;32m----> 7\u001b[0m \u001b[38;5;28;01mfor\u001b[39;00m i \u001b[38;5;129;01min\u001b[39;00m \u001b[38;5;28mrange\u001b[39m(\u001b[38;5;241m0\u001b[39m,\u001b[43mpanjang_kalimat\u001b[49m):\n\u001b[0;32m      8\u001b[0m     urut \u001b[38;5;241m=\u001b[39m kalimat[i]\n\u001b[0;32m      9\u001b[0m     kebalikan \u001b[38;5;241m=\u001b[39m kalimat[panjang_kalimat \u001b[38;5;241m-\u001b[39m i\u001b[38;5;241m-\u001b[39m\u001b[38;5;241m1\u001b[39m]\n",
      "\u001b[1;31mNameError\u001b[0m: name 'panjang_kalimat' is not defined"
     ]
    }
   ],
   "source": [
    "ulang = \"y\"\n",
    "while(ulang==\"y\"):\n",
    "    kalimat = input(\"isikan kalimat:\")\n",
    "    panjnag_kalimat = len(kalimat)\n",
    "    \n",
    "    ispalindrome = True\n",
    "    for i in range(0,panjang_kalimat):\n",
    "        urut = kalimat[i]\n",
    "        kebalikan = kalimat[panjang_kalimat - i-1]\n",
    "        if urut != kebalikan:\n",
    "            ispalindrome = False\n",
    "            break\n",
    "            \n",
    "    if ispalindrome==True:\n",
    "        print(f\"{kalimat} adalah palindrome\")\n",
    "    else:\n",
    "        print(f\"{kalimat} adalah bukan palindrome\")\n",
    "    ulang = input('apakah mau mengulang program?: Y/T')"
   ]
  },
  {
   "cell_type": "code",
   "execution_count": 6,
   "id": "608322b4",
   "metadata": {},
   "outputs": [
    {
     "name": "stdout",
     "output_type": "stream",
     "text": [
      ":i: 1 dan j : 1\n",
      ":i: 1 dan j : 2\n",
      ":i: 1 dan j : 3\n",
      ":i: 1 dan j : 4\n"
     ]
    }
   ],
   "source": [
    "#nested for\n",
    "for j in range(1,5):\n",
    "    print(f\":i: {i} dan j : {j}\")"
   ]
  },
  {
   "cell_type": "code",
   "execution_count": null,
   "id": "762b1ffb",
   "metadata": {},
   "outputs": [],
   "source": []
  }
 ],
 "metadata": {
  "kernelspec": {
   "display_name": "Python 3 (ipykernel)",
   "language": "python",
   "name": "python3"
  },
  "language_info": {
   "codemirror_mode": {
    "name": "ipython",
    "version": 3
   },
   "file_extension": ".py",
   "mimetype": "text/x-python",
   "name": "python",
   "nbconvert_exporter": "python",
   "pygments_lexer": "ipython3",
   "version": "3.9.12"
  }
 },
 "nbformat": 4,
 "nbformat_minor": 5
}
